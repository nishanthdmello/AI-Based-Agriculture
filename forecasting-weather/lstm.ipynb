{
 "cells": [
  {
   "cell_type": "code",
   "execution_count": 1,
   "metadata": {},
   "outputs": [
    {
     "data": {
      "text/plain": [
       "'hello'"
      ]
     },
     "execution_count": 1,
     "metadata": {},
     "output_type": "execute_result"
    }
   ],
   "source": [
    "'hello'"
   ]
  },
  {
   "cell_type": "code",
   "execution_count": 2,
   "metadata": {},
   "outputs": [
    {
     "data": {
      "text/html": [
       "<div>\n",
       "<style scoped>\n",
       "    .dataframe tbody tr th:only-of-type {\n",
       "        vertical-align: middle;\n",
       "    }\n",
       "\n",
       "    .dataframe tbody tr th {\n",
       "        vertical-align: top;\n",
       "    }\n",
       "\n",
       "    .dataframe thead th {\n",
       "        text-align: right;\n",
       "    }\n",
       "</style>\n",
       "<table border=\"1\" class=\"dataframe\">\n",
       "  <thead>\n",
       "    <tr style=\"text-align: right;\">\n",
       "      <th></th>\n",
       "      <th>date</th>\n",
       "      <th>temperature</th>\n",
       "      <th>rainfall</th>\n",
       "      <th>humidity</th>\n",
       "    </tr>\n",
       "  </thead>\n",
       "  <tbody>\n",
       "    <tr>\n",
       "      <th>0</th>\n",
       "      <td>2023-07-01</td>\n",
       "      <td>24.5</td>\n",
       "      <td>0.20</td>\n",
       "      <td>68</td>\n",
       "    </tr>\n",
       "    <tr>\n",
       "      <th>1</th>\n",
       "      <td>2023-07-02</td>\n",
       "      <td>24.2</td>\n",
       "      <td>9.20</td>\n",
       "      <td>66</td>\n",
       "    </tr>\n",
       "    <tr>\n",
       "      <th>2</th>\n",
       "      <td>2023-07-03</td>\n",
       "      <td>22.1</td>\n",
       "      <td>5.80</td>\n",
       "      <td>81</td>\n",
       "    </tr>\n",
       "    <tr>\n",
       "      <th>3</th>\n",
       "      <td>2023-07-04</td>\n",
       "      <td>22.4</td>\n",
       "      <td>19.40</td>\n",
       "      <td>81</td>\n",
       "    </tr>\n",
       "    <tr>\n",
       "      <th>4</th>\n",
       "      <td>2023-07-05</td>\n",
       "      <td>21.8</td>\n",
       "      <td>22.20</td>\n",
       "      <td>78</td>\n",
       "    </tr>\n",
       "    <tr>\n",
       "      <th>...</th>\n",
       "      <td>...</td>\n",
       "      <td>...</td>\n",
       "      <td>...</td>\n",
       "      <td>...</td>\n",
       "    </tr>\n",
       "    <tr>\n",
       "      <th>361</th>\n",
       "      <td>2024-06-26</td>\n",
       "      <td>23.4</td>\n",
       "      <td>0.16</td>\n",
       "      <td>74</td>\n",
       "    </tr>\n",
       "    <tr>\n",
       "      <th>362</th>\n",
       "      <td>2024-06-27</td>\n",
       "      <td>23.4</td>\n",
       "      <td>0.09</td>\n",
       "      <td>72</td>\n",
       "    </tr>\n",
       "    <tr>\n",
       "      <th>363</th>\n",
       "      <td>2024-06-28</td>\n",
       "      <td>23.4</td>\n",
       "      <td>0.04</td>\n",
       "      <td>70</td>\n",
       "    </tr>\n",
       "    <tr>\n",
       "      <th>364</th>\n",
       "      <td>2024-06-29</td>\n",
       "      <td>24.3</td>\n",
       "      <td>0.05</td>\n",
       "      <td>70</td>\n",
       "    </tr>\n",
       "    <tr>\n",
       "      <th>365</th>\n",
       "      <td>2024-06-30</td>\n",
       "      <td>24.3</td>\n",
       "      <td>4.22</td>\n",
       "      <td>71</td>\n",
       "    </tr>\n",
       "  </tbody>\n",
       "</table>\n",
       "<p>366 rows × 4 columns</p>\n",
       "</div>"
      ],
      "text/plain": [
       "           date  temperature  rainfall  humidity\n",
       "0    2023-07-01         24.5      0.20        68\n",
       "1    2023-07-02         24.2      9.20        66\n",
       "2    2023-07-03         22.1      5.80        81\n",
       "3    2023-07-04         22.4     19.40        81\n",
       "4    2023-07-05         21.8     22.20        78\n",
       "..          ...          ...       ...       ...\n",
       "361  2024-06-26         23.4      0.16        74\n",
       "362  2024-06-27         23.4      0.09        72\n",
       "363  2024-06-28         23.4      0.04        70\n",
       "364  2024-06-29         24.3      0.05        70\n",
       "365  2024-06-30         24.3      4.22        71\n",
       "\n",
       "[366 rows x 4 columns]"
      ]
     },
     "execution_count": 2,
     "metadata": {},
     "output_type": "execute_result"
    }
   ],
   "source": [
    "import pandas as pd\n",
    "df = pd.read_csv('1-year-daily-weather-data.csv')\n",
    "df"
   ]
  },
  {
   "cell_type": "code",
   "execution_count": 3,
   "metadata": {},
   "outputs": [
    {
     "data": {
      "text/plain": [
       "0      24.5\n",
       "1      24.2\n",
       "2      22.1\n",
       "3      22.4\n",
       "4      21.8\n",
       "       ... \n",
       "361    23.4\n",
       "362    23.4\n",
       "363    23.4\n",
       "364    24.3\n",
       "365    24.3\n",
       "Name: temperature, Length: 366, dtype: float64"
      ]
     },
     "execution_count": 3,
     "metadata": {},
     "output_type": "execute_result"
    }
   ],
   "source": [
    "temp = df['temperature']\n",
    "temp"
   ]
  },
  {
   "cell_type": "code",
   "execution_count": 4,
   "metadata": {},
   "outputs": [
    {
     "data": {
      "text/plain": [
       "array([24.5, 24.2, 22.1, 22.4, 21.8, 21.8, 21.8, 22.1, 23.1, 23.7, 22.4,\n",
       "       23.5, 23.6, 23.5, 23.9, 23.9, 24. , 23.9, 23.1, 23.3, 24. , 23.3,\n",
       "       22.5, 21.8, 20.6, 20. , 21.9, 22.4, 23.5, 23.8, 24. , 23.5, 23.7,\n",
       "       23.9, 23.7, 23.9, 24.4, 24.3, 23.9, 24.7, 25. , 24.6, 25.1, 24.7,\n",
       "       25.1, 25.1, 25.1, 25.3, 24.4, 23.6, 23.9, 25.7, 25.2, 25.9, 25.6,\n",
       "       25.8, 24.3, 24.9, 25.5, 25.2, 25.2, 25.6, 24.4, 23. , 23.4, 22. ,\n",
       "       20.5, 23.3, 23.2, 23.1, 22.7, 22.7, 22.9, 23.2, 23. , 23.1, 23.6,\n",
       "       21.6, 23.1, 23.2, 23.5, 23.6, 23.5, 23.5, 23.5, 23.3, 23.5, 23.8,\n",
       "       23.4, 22.7, 22.3, 22.4, 22.7, 22.3, 22.9, 23.8, 24.1, 23.8, 23.6,\n",
       "       25.4, 23.8, 25.1, 23.8, 23.7, 23.6, 23.8, 24.1, 23.6, 23.4, 24. ,\n",
       "       24.2, 23.7, 23.8, 24.3, 23.6, 23.2, 23.2, 23.5, 23.6, 23.6, 23.2,\n",
       "       22.2, 22.2, 23.1, 22.7, 23.1, 22.7, 22.3, 22.2, 22. , 21.9, 22.4,\n",
       "       21.6, 21.4, 21. , 21. , 19.2, 21.3, 22.9, 24.2, 24.1, 22.3, 22.4,\n",
       "       23.3, 22.7, 22.2, 22.4, 21.8, 21.9, 22.2, 22.1, 22.1, 21.3, 22. ,\n",
       "       21.8, 21.3, 20.5, 22.5, 22.7, 24.6, 23. , 22.4, 22.6, 22.3, 21.9,\n",
       "       21.1, 20.4, 20.7, 22.3, 21. , 21.3, 20.4, 20.6, 21.3, 21.2, 20.8,\n",
       "       20.6, 21.8, 21.4, 20.7, 21.4, 21.4, 20.7, 21.3, 21.2, 21.1, 21.2,\n",
       "       20.9, 20.6, 21.5, 20.4, 20.3, 20.9, 21.6, 21.7, 21.6, 22.4, 22.7,\n",
       "       22.6, 22.8, 22.3, 22.6, 23.5, 23.6, 23.7, 23.8, 24. , 23.5, 23.4,\n",
       "       22.2, 21.6, 22.3, 22.2, 22.5, 24. , 24.4, 24.8, 24.9, 24.3, 24.6,\n",
       "       24.6, 24.9, 25.3, 24.8, 23.7, 22.8, 22.8, 23. , 23.8, 23.6, 23.4,\n",
       "       24.1, 24.6, 24.6, 25.3, 26.3, 26.1, 26.3, 27.4, 25.6, 24.2, 24.2,\n",
       "       25.3, 25.2, 25.3, 26. , 26.1, 27.3, 27.3, 27.4, 28.2, 28.3, 28.3,\n",
       "       27.7, 27.8, 28. , 28.4, 28.8, 29.5, 28.4, 27.4, 27.7, 27.8, 28.4,\n",
       "       25.4, 27. , 28.1, 28.3, 28.2, 28.3, 28.6, 29. , 29.3, 29. , 28.6,\n",
       "       29. , 30. , 30.2, 30.3, 30.4, 30.8, 29.8, 29.5, 28.4, 28.1, 28.8,\n",
       "       28.2, 28.4, 28.8, 29.2, 29.6, 30.5, 30.5, 29.8, 30. , 31.2, 30.9,\n",
       "       30.6, 30.1, 30.2, 30.4, 30.6, 30.9, 30.8, 31.2, 31.4, 31.3, 31.3,\n",
       "       30.7, 31.2, 31.5, 28.2, 28. , 28.7, 27.5, 28.6, 28.7, 28.3, 29.2,\n",
       "       29.1, 27.3, 26.5, 26. , 27. , 26.2, 25.4, 27.9, 28.3, 27.4, 23.6,\n",
       "       25. , 25.1, 26. , 27.2, 27.4, 27.9, 26.5, 26.4, 26.4, 26. , 24.9,\n",
       "       24.9, 22.4, 23.8, 22.6, 23.8, 23.6, 23.5, 21.4, 24.2, 25. , 25.9,\n",
       "       25.4, 25.5, 25.6, 24.6, 23.3, 22.8, 23.4, 22.8, 24. , 23.4, 23.4,\n",
       "       23.4, 24.3, 24.3])"
      ]
     },
     "execution_count": 4,
     "metadata": {},
     "output_type": "execute_result"
    }
   ],
   "source": [
    "import numpy as np\n",
    "temp = np.array(temp)\n",
    "temp"
   ]
  },
  {
   "cell_type": "code",
   "execution_count": 3,
   "metadata": {},
   "outputs": [
    {
     "ename": "ModuleNotFoundError",
     "evalue": "No module named 'keras.preprocessing.timeseries'",
     "output_type": "error",
     "traceback": [
      "\u001b[0;31m---------------------------------------------------------------------------\u001b[0m",
      "\u001b[0;31mModuleNotFoundError\u001b[0m                       Traceback (most recent call last)",
      "Cell \u001b[0;32mIn[3], line 1\u001b[0m\n\u001b[0;32m----> 1\u001b[0m \u001b[38;5;28;01mfrom\u001b[39;00m \u001b[38;5;21;01mkeras\u001b[39;00m\u001b[38;5;21;01m.\u001b[39;00m\u001b[38;5;21;01mpreprocessing\u001b[39;00m\u001b[38;5;21;01m.\u001b[39;00m\u001b[38;5;21;01mtimeseries\u001b[39;00m  \u001b[38;5;28;01mimport\u001b[39;00m TimeseriesGenerator\n\u001b[1;32m      2\u001b[0m temp\u001b[38;5;241m.\u001b[39mlag \u001b[38;5;241m=\u001b[39m \u001b[38;5;241m5\u001b[39m\n",
      "\u001b[0;31mModuleNotFoundError\u001b[0m: No module named 'keras.preprocessing.timeseries'"
     ]
    }
   ],
   "source": [
    "from keras.preprocessing.timeseries  import TimeseriesGenerator\n",
    "temp.lag = 5"
   ]
  }
 ],
 "metadata": {
  "kernelspec": {
   "display_name": ".venv",
   "language": "python",
   "name": "python3"
  },
  "language_info": {
   "codemirror_mode": {
    "name": "ipython",
    "version": 3
   },
   "file_extension": ".py",
   "mimetype": "text/x-python",
   "name": "python",
   "nbconvert_exporter": "python",
   "pygments_lexer": "ipython3",
   "version": "3.12.3"
  }
 },
 "nbformat": 4,
 "nbformat_minor": 2
}
