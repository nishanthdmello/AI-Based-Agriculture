{
 "cells": [
  {
   "cell_type": "code",
   "execution_count": 1,
   "id": "2fd504e1-807b-4208-abd8-3ee5f749f58a",
   "metadata": {},
   "outputs": [],
   "source": [
    "import pandas as pd\n",
    "import numpy as np"
   ]
  },
  {
   "cell_type": "code",
   "execution_count": 2,
   "id": "8d5ceb43-a11a-49ec-9f05-feb8e77a2447",
   "metadata": {},
   "outputs": [],
   "source": [
    "df = pd.read_csv('irrigation-plan.csv')"
   ]
  },
  {
   "cell_type": "code",
   "execution_count": 3,
   "id": "c38396c9-1027-4c34-87a7-fcc9a4f49a30",
   "metadata": {},
   "outputs": [
    {
     "data": {
      "text/plain": [
       "Index(['CROP TYPE', 'SOIL TYPE', 'REGION', 'TEMPERATURE', 'WEATHER CONDITION',\n",
       "       'WATER REQUIREMENT'],\n",
       "      dtype='object')"
      ]
     },
     "execution_count": 3,
     "metadata": {},
     "output_type": "execute_result"
    }
   ],
   "source": [
    "df.columns"
   ]
  },
  {
   "cell_type": "code",
   "execution_count": 5,
   "id": "17abd7ec-b09f-40d2-ad5b-402a55e0d2a4",
   "metadata": {},
   "outputs": [
    {
     "name": "stdout",
     "output_type": "stream",
     "text": [
      "CROP TYPE\n",
      "BANANA       192\n",
      "SOYABEAN     192\n",
      "CABBAGE      192\n",
      "POTATO       192\n",
      "RICE         192\n",
      "MELON        192\n",
      "MAIZE        192\n",
      "CITRUS       192\n",
      "BEAN         192\n",
      "WHEAT        192\n",
      "MUSTARD      192\n",
      "COTTON       192\n",
      "SUGARCANE    192\n",
      "TOMATO       192\n",
      "ONION        192\n",
      "Name: count, dtype: int64\n",
      "SOIL TYPE\n",
      "DRY      960\n",
      "HUMID    960\n",
      "WET      960\n",
      "Name: count, dtype: int64\n",
      "REGION\n",
      "DESERT        720\n",
      "SEMI ARID     720\n",
      "SEMI HUMID    720\n",
      "HUMID         720\n",
      "Name: count, dtype: int64\n",
      "TEMPERATURE\n",
      "10-20    720\n",
      "20-30    720\n",
      "30-40    720\n",
      "40-50    720\n",
      "Name: count, dtype: int64\n",
      "WEATHER CONDITION\n",
      "NORMAL    725\n",
      "SUNNY     721\n",
      "WINDY     717\n",
      "RAINY     717\n",
      "Name: count, dtype: int64\n",
      "WATER REQUIREMENT\n",
      "0.100    157\n",
      "0.200    112\n",
      "0.300    105\n",
      "0.500     99\n",
      "0.800     88\n",
      "        ... \n",
      "9.250      1\n",
      "9.750      1\n",
      "7.625      1\n",
      "8.625      1\n",
      "8.125      1\n",
      "Name: count, Length: 436, dtype: int64\n"
     ]
    }
   ],
   "source": [
    "for i in df.columns:\n",
    "    print(df[i].value_counts())"
   ]
  },
  {
   "cell_type": "code",
   "execution_count": 6,
   "id": "38d1bbeb-c41e-4878-bd3b-9ffcdbe82989",
   "metadata": {},
   "outputs": [
    {
     "data": {
      "text/plain": [
       "Index(['date', 'temperature', 'rainfall', 'humidity'], dtype='object')"
      ]
     },
     "execution_count": 6,
     "metadata": {},
     "output_type": "execute_result"
    }
   ],
   "source": [
    "df2 = pd.read_csv('1-year-daily-weather-data.csv')\n",
    "df2.columns"
   ]
  },
  {
   "cell_type": "code",
   "execution_count": 10,
   "id": "8da29972-76f9-4c9a-a4ae-ac22f967b366",
   "metadata": {},
   "outputs": [
    {
     "data": {
      "text/html": [
       "<div>\n",
       "<style scoped>\n",
       "    .dataframe tbody tr th:only-of-type {\n",
       "        vertical-align: middle;\n",
       "    }\n",
       "\n",
       "    .dataframe tbody tr th {\n",
       "        vertical-align: top;\n",
       "    }\n",
       "\n",
       "    .dataframe thead th {\n",
       "        text-align: right;\n",
       "    }\n",
       "</style>\n",
       "<table border=\"1\" class=\"dataframe\">\n",
       "  <thead>\n",
       "    <tr style=\"text-align: right;\">\n",
       "      <th></th>\n",
       "      <th>N</th>\n",
       "      <th>P</th>\n",
       "      <th>K</th>\n",
       "      <th>Temperature</th>\n",
       "      <th>Humidity</th>\n",
       "      <th>pH</th>\n",
       "      <th>Moisture</th>\n",
       "      <th>Crop</th>\n",
       "    </tr>\n",
       "  </thead>\n",
       "  <tbody>\n",
       "    <tr>\n",
       "      <th>0</th>\n",
       "      <td>90</td>\n",
       "      <td>42</td>\n",
       "      <td>43</td>\n",
       "      <td>20.879744</td>\n",
       "      <td>82.002744</td>\n",
       "      <td>6.502985</td>\n",
       "      <td>202.935536</td>\n",
       "      <td>Rice</td>\n",
       "    </tr>\n",
       "    <tr>\n",
       "      <th>1</th>\n",
       "      <td>85</td>\n",
       "      <td>58</td>\n",
       "      <td>41</td>\n",
       "      <td>21.770462</td>\n",
       "      <td>80.319644</td>\n",
       "      <td>7.038096</td>\n",
       "      <td>226.655537</td>\n",
       "      <td>Rice</td>\n",
       "    </tr>\n",
       "    <tr>\n",
       "      <th>2</th>\n",
       "      <td>60</td>\n",
       "      <td>55</td>\n",
       "      <td>44</td>\n",
       "      <td>23.004459</td>\n",
       "      <td>82.320763</td>\n",
       "      <td>7.840207</td>\n",
       "      <td>263.964248</td>\n",
       "      <td>Rice</td>\n",
       "    </tr>\n",
       "    <tr>\n",
       "      <th>3</th>\n",
       "      <td>74</td>\n",
       "      <td>35</td>\n",
       "      <td>40</td>\n",
       "      <td>26.491096</td>\n",
       "      <td>80.158363</td>\n",
       "      <td>6.980401</td>\n",
       "      <td>242.864034</td>\n",
       "      <td>Rice</td>\n",
       "    </tr>\n",
       "    <tr>\n",
       "      <th>4</th>\n",
       "      <td>78</td>\n",
       "      <td>42</td>\n",
       "      <td>42</td>\n",
       "      <td>20.130175</td>\n",
       "      <td>81.604873</td>\n",
       "      <td>7.628473</td>\n",
       "      <td>262.717340</td>\n",
       "      <td>Rice</td>\n",
       "    </tr>\n",
       "    <tr>\n",
       "      <th>...</th>\n",
       "      <td>...</td>\n",
       "      <td>...</td>\n",
       "      <td>...</td>\n",
       "      <td>...</td>\n",
       "      <td>...</td>\n",
       "      <td>...</td>\n",
       "      <td>...</td>\n",
       "      <td>...</td>\n",
       "    </tr>\n",
       "    <tr>\n",
       "      <th>2195</th>\n",
       "      <td>107</td>\n",
       "      <td>34</td>\n",
       "      <td>32</td>\n",
       "      <td>26.774637</td>\n",
       "      <td>66.413269</td>\n",
       "      <td>6.780064</td>\n",
       "      <td>177.774507</td>\n",
       "      <td>Coffee</td>\n",
       "    </tr>\n",
       "    <tr>\n",
       "      <th>2196</th>\n",
       "      <td>99</td>\n",
       "      <td>15</td>\n",
       "      <td>27</td>\n",
       "      <td>27.417112</td>\n",
       "      <td>56.636362</td>\n",
       "      <td>6.086922</td>\n",
       "      <td>127.924610</td>\n",
       "      <td>Coffee</td>\n",
       "    </tr>\n",
       "    <tr>\n",
       "      <th>2197</th>\n",
       "      <td>118</td>\n",
       "      <td>33</td>\n",
       "      <td>30</td>\n",
       "      <td>24.131797</td>\n",
       "      <td>67.225123</td>\n",
       "      <td>6.362608</td>\n",
       "      <td>173.322839</td>\n",
       "      <td>Coffee</td>\n",
       "    </tr>\n",
       "    <tr>\n",
       "      <th>2198</th>\n",
       "      <td>117</td>\n",
       "      <td>32</td>\n",
       "      <td>34</td>\n",
       "      <td>26.272418</td>\n",
       "      <td>52.127394</td>\n",
       "      <td>6.758793</td>\n",
       "      <td>127.175293</td>\n",
       "      <td>Coffee</td>\n",
       "    </tr>\n",
       "    <tr>\n",
       "      <th>2199</th>\n",
       "      <td>104</td>\n",
       "      <td>18</td>\n",
       "      <td>30</td>\n",
       "      <td>23.603016</td>\n",
       "      <td>60.396475</td>\n",
       "      <td>6.779833</td>\n",
       "      <td>140.937041</td>\n",
       "      <td>Coffee</td>\n",
       "    </tr>\n",
       "  </tbody>\n",
       "</table>\n",
       "<p>2200 rows × 8 columns</p>\n",
       "</div>"
      ],
      "text/plain": [
       "        N   P   K  Temperature   Humidity        pH    Moisture    Crop\n",
       "0      90  42  43    20.879744  82.002744  6.502985  202.935536    Rice\n",
       "1      85  58  41    21.770462  80.319644  7.038096  226.655537    Rice\n",
       "2      60  55  44    23.004459  82.320763  7.840207  263.964248    Rice\n",
       "3      74  35  40    26.491096  80.158363  6.980401  242.864034    Rice\n",
       "4      78  42  42    20.130175  81.604873  7.628473  262.717340    Rice\n",
       "...   ...  ..  ..          ...        ...       ...         ...     ...\n",
       "2195  107  34  32    26.774637  66.413269  6.780064  177.774507  Coffee\n",
       "2196   99  15  27    27.417112  56.636362  6.086922  127.924610  Coffee\n",
       "2197  118  33  30    24.131797  67.225123  6.362608  173.322839  Coffee\n",
       "2198  117  32  34    26.272418  52.127394  6.758793  127.175293  Coffee\n",
       "2199  104  18  30    23.603016  60.396475  6.779833  140.937041  Coffee\n",
       "\n",
       "[2200 rows x 8 columns]"
      ]
     },
     "execution_count": 10,
     "metadata": {},
     "output_type": "execute_result"
    }
   ],
   "source": [
    "df3 = pd.read_csv(\"crop_recommendation.csv\")\n",
    "df3"
   ]
  },
  {
   "cell_type": "code",
   "execution_count": 12,
   "id": "ba5a0ede-6e2d-4871-b58d-47d2c8d3a0db",
   "metadata": {},
   "outputs": [
    {
     "data": {
      "text/plain": [
       "Crop\n",
       "Rice           100\n",
       "Maize          100\n",
       "ChickPea       100\n",
       "KidneyBeans    100\n",
       "PigeonPeas     100\n",
       "MothBeans      100\n",
       "MungBean       100\n",
       "Blackgram      100\n",
       "Lentil         100\n",
       "Pomegranate    100\n",
       "Banana         100\n",
       "Mango          100\n",
       "Grapes         100\n",
       "Watermelon     100\n",
       "Muskmelon      100\n",
       "Apple          100\n",
       "Orange         100\n",
       "Papaya         100\n",
       "Coconut        100\n",
       "Cotton         100\n",
       "Jute           100\n",
       "Coffee         100\n",
       "Name: count, dtype: int64"
      ]
     },
     "execution_count": 12,
     "metadata": {},
     "output_type": "execute_result"
    }
   ],
   "source": [
    "df3 = pd.read_csv(\"crop_recommendation.csv\")\n",
    "df3['Crop'].value_counts()"
   ]
  },
  {
   "cell_type": "code",
   "execution_count": 22,
   "id": "aa025690-4371-4e39-b618-7b0e5e43e299",
   "metadata": {},
   "outputs": [
    {
     "name": "stdout",
     "output_type": "stream",
     "text": [
      "N <class 'numpy.int64'>\n",
      "P <class 'numpy.int64'>\n",
      "K <class 'numpy.int64'>\n",
      "Temperature <class 'numpy.float64'>\n",
      "Humidity <class 'numpy.float64'>\n",
      "pH <class 'numpy.float64'>\n",
      "Moisture <class 'numpy.float64'>\n",
      "Crop <class 'str'>\n"
     ]
    }
   ],
   "source": [
    "for i in df3.columns:\n",
    "    print(i, type(df3[i][0]))"
   ]
  },
  {
   "cell_type": "code",
   "execution_count": 28,
   "id": "38e25103-c561-4f97-b302-28bca1cc9040",
   "metadata": {},
   "outputs": [
    {
     "name": "stdout",
     "output_type": "stream",
     "text": [
      "Hamming Loss: 0.0006198347107438017\n",
      "Jaccard Score: 0.9864559819413092\n"
     ]
    }
   ],
   "source": [
    "import pandas as pd\n",
    "from sklearn.model_selection import train_test_split\n",
    "from sklearn.preprocessing import LabelBinarizer\n",
    "from sklearn.ensemble import RandomForestClassifier\n",
    "from sklearn.metrics import hamming_loss, jaccard_score\n",
    "\n",
    "data = pd.read_csv(\"crop_recommendation.csv\")\n",
    "\n",
    "# Assuming data is in a pandas DataFrame called 'data'\n",
    "X = data[['N', 'P', 'K', 'Temperature', 'Humidity', 'pH', 'Moisture']]\n",
    "y = data['Crop']\n",
    "\n",
    "# Convert Crop to multi-label format\n",
    "label_binarizer = LabelBinarizer()\n",
    "y = label_binarizer.fit_transform(y)\n",
    "\n",
    "# Split data into training and testing sets\n",
    "X_train, X_test, y_train, y_test = train_test_split(X, y, test_size=0.2, random_state=42)\n",
    "\n",
    "# Create Random Forest model\n",
    "rf_model = RandomForestClassifier(n_estimators=100, random_state=42)\n",
    "\n",
    "# Fit the model\n",
    "rf_model.fit(X_train, y_train)\n",
    "\n",
    "# Make predictions\n",
    "y_pred = rf_model.predict(X_test)\n",
    "\n",
    "# Evaluate the model\n",
    "print(\"Hamming Loss:\", hamming_loss(y_test, y_pred))\n",
    "print(\"Jaccard Score:\", jaccard_score(y_test, y_pred, average='micro'))\n"
   ]
  },
  {
   "cell_type": "code",
   "execution_count": 26,
   "id": "4106e310-4049-4ae5-9641-b4f3cfe52c8e",
   "metadata": {},
   "outputs": [
    {
     "name": "stdout",
     "output_type": "stream",
     "text": [
      "Defaulting to user installation because normal site-packages is not writeable\n",
      "Collecting scikit-learn\n",
      "  Downloading scikit_learn-1.5.1-cp310-cp310-manylinux_2_17_x86_64.manylinux2014_x86_64.whl (13.4 MB)\n",
      "\u001b[2K     \u001b[38;2;114;156;31m━━━━━━━━━━━━━━━━━━━━━━━━━━━━━━━━━━━━━━━━\u001b[0m \u001b[32m13.4/13.4 MB\u001b[0m \u001b[31m6.5 MB/s\u001b[0m eta \u001b[36m0:00:00\u001b[0mm eta \u001b[36m0:00:01\u001b[0m0:01\u001b[0m:01\u001b[0m\n",
      "\u001b[?25hCollecting joblib>=1.2.0\n",
      "  Downloading joblib-1.4.2-py3-none-any.whl (301 kB)\n",
      "\u001b[2K     \u001b[38;2;114;156;31m━━━━━━━━━━━━━━━━━━━━━━━━━━━━━━━━━━━━━━━\u001b[0m \u001b[32m301.8/301.8 KB\u001b[0m \u001b[31m8.0 MB/s\u001b[0m eta \u001b[36m0:00:00\u001b[0m[36m0:00:01\u001b[0m\n",
      "\u001b[?25hCollecting scipy>=1.6.0\n",
      "  Downloading scipy-1.14.0-cp310-cp310-manylinux_2_17_x86_64.manylinux2014_x86_64.whl (41.1 MB)\n",
      "\u001b[2K     \u001b[38;2;114;156;31m━━━━━━━━━━━━━━━━━━━━━━━━━━━━━━━━━━━━━━━\u001b[0m \u001b[32m41.1/41.1 MB\u001b[0m \u001b[31m925.2 kB/s\u001b[0m eta \u001b[36m0:00:00\u001b[0mm eta \u001b[36m0:00:01\u001b[0m[36m0:00:02\u001b[0m\n",
      "\u001b[?25hRequirement already satisfied: numpy>=1.19.5 in /home/nishanholla/.local/lib/python3.10/site-packages (from scikit-learn) (1.26.4)\n",
      "Collecting threadpoolctl>=3.1.0\n",
      "  Downloading threadpoolctl-3.5.0-py3-none-any.whl (18 kB)\n",
      "Installing collected packages: threadpoolctl, scipy, joblib, scikit-learn\n",
      "Successfully installed joblib-1.4.2 scikit-learn-1.5.1 scipy-1.14.0 threadpoolctl-3.5.0\n"
     ]
    }
   ],
   "source": [
    "!pip install scikit-learn"
   ]
  },
  {
   "cell_type": "code",
   "execution_count": null,
   "id": "7b115be1-aadc-4163-ad0a-73651f2c6931",
   "metadata": {},
   "outputs": [],
   "source": []
  }
 ],
 "metadata": {
  "kernelspec": {
   "display_name": "Python 3 (ipykernel)",
   "language": "python",
   "name": "python3"
  },
  "language_info": {
   "codemirror_mode": {
    "name": "ipython",
    "version": 3
   },
   "file_extension": ".py",
   "mimetype": "text/x-python",
   "name": "python",
   "nbconvert_exporter": "python",
   "pygments_lexer": "ipython3",
   "version": "3.10.12"
  }
 },
 "nbformat": 4,
 "nbformat_minor": 5
}
